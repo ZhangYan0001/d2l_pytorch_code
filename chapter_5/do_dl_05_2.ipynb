{
 "cells": [
  {
   "cell_type": "code",
   "execution_count": null,
   "metadata": {},
   "outputs": [],
   "source": [
    "# 多输入通道和多输出通道\n",
    "\n",
    "# 对于真实数据的维度经常更高，例如彩色图像在高和宽两个维度外还有RGB（红绿蓝）3个通道\n",
    "# 包含多个输入输出通道的卷积核\n"
   ]
  }
 ],
 "metadata": {
  "language_info": {
   "name": "python"
  }
 },
 "nbformat": 4,
 "nbformat_minor": 2
}
