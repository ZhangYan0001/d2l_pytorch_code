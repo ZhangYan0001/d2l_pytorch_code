{
 "cells": [
  {
   "cell_type": "code",
   "execution_count": 29,
   "metadata": {},
   "outputs": [
    {
     "data": {
      "text/plain": [
       "<module 'd2l_pytorch.d2l' from '..\\\\d2l_pytorch\\\\d2l.py'>"
      ]
     },
     "execution_count": 29,
     "metadata": {},
     "output_type": "execute_result"
    }
   ],
   "source": [
    "from imp import reload\n",
    "import torch\n",
    "from torch import nn\n",
    "from torch.nn import init\n",
    "import numpy as np\n",
    "import sys\n",
    "\n",
    "sys.path.append(\"..\")\n",
    "import d2l_pytorch.d2l as d2l\n",
    "reload(d2l)"
   ]
  },
  {
   "cell_type": "code",
   "execution_count": 3,
   "metadata": {},
   "outputs": [],
   "source": [
    "batch_size = 256\n",
    "train_iter,test_iter = d2l.load_data_fashion_mnist(batch_size=batch_size)"
   ]
  },
  {
   "cell_type": "code",
   "execution_count": 4,
   "metadata": {},
   "outputs": [],
   "source": [
    "num_inputs = 784\n",
    "num_outputs = 10\n"
   ]
  },
  {
   "cell_type": "code",
   "execution_count": 5,
   "metadata": {},
   "outputs": [],
   "source": [
    "class LinearNet(nn.Module):\n",
    "  def __init__(self, num_inputs, num_outputs):\n",
    "    super(LinearNet,self).__init__()\n",
    "    self.linear = nn.Linear(num_inputs, num_outputs)\n",
    "  \n",
    "  def forward(self, x):\n",
    "    y = self.linear(x.view(x.shape[0],-1))\n",
    "    return y"
   ]
  },
  {
   "cell_type": "code",
   "execution_count": 6,
   "metadata": {},
   "outputs": [],
   "source": [
    "net = LinearNet(num_inputs,num_outputs)"
   ]
  },
  {
   "cell_type": "code",
   "execution_count": 7,
   "metadata": {},
   "outputs": [],
   "source": [
    "\n",
    "class FlattenLayer(nn.Module):\n",
    "  def __init(self):\n",
    "    super(FlattenLayer,self).__init__()\n",
    "  \n",
    "  def forward(self,x):\n",
    "    return x.view(x.shape[0],-1)"
   ]
  },
  {
   "cell_type": "code",
   "execution_count": 8,
   "metadata": {},
   "outputs": [],
   "source": [
    "from collections import OrderedDict\n",
    "\n",
    "net = nn.Sequential(\n",
    "  OrderedDict(\n",
    "    [\n",
    "      (\"fatten\", FlattenLayer()),\n",
    "      (\"linear\", nn.Linear(num_inputs, num_outputs)),\n",
    "    ]\n",
    "  )\n",
    ")\n"
   ]
  },
  {
   "cell_type": "code",
   "execution_count": 9,
   "metadata": {},
   "outputs": [
    {
     "data": {
      "text/plain": [
       "Parameter containing:\n",
       "tensor([0., 0., 0., 0., 0., 0., 0., 0., 0., 0.], requires_grad=True)"
      ]
     },
     "execution_count": 9,
     "metadata": {},
     "output_type": "execute_result"
    }
   ],
   "source": [
    "init.normal_(net.linear.weight, mean=0, std=0.01)\n",
    "init.constant_(net.linear.bias, val=0)\n"
   ]
  },
  {
   "cell_type": "code",
   "execution_count": 14,
   "metadata": {},
   "outputs": [
    {
     "name": "stdout",
     "output_type": "stream",
     "text": [
      "epoch 1 , loss 0.0018 , train acc 0.845, test acc 0.832\n",
      "epoch 2 , loss 0.0018 , train acc 0.846, test acc 0.830\n",
      "epoch 3 , loss 0.0018 , train acc 0.848, test acc 0.834\n",
      "epoch 4 , loss 0.0017 , train acc 0.850, test acc 0.830\n",
      "epoch 5 , loss 0.0017 , train acc 0.851, test acc 0.824\n",
      "epoch 6 , loss 0.0017 , train acc 0.851, test acc 0.833\n",
      "epoch 7 , loss 0.0017 , train acc 0.852, test acc 0.836\n",
      "epoch 8 , loss 0.0017 , train acc 0.853, test acc 0.836\n",
      "epoch 9 , loss 0.0017 , train acc 0.853, test acc 0.840\n",
      "epoch 10 , loss 0.0017 , train acc 0.856, test acc 0.838\n",
      "epoch 11 , loss 0.0017 , train acc 0.855, test acc 0.836\n",
      "epoch 12 , loss 0.0017 , train acc 0.855, test acc 0.834\n",
      "epoch 13 , loss 0.0016 , train acc 0.857, test acc 0.840\n",
      "epoch 14 , loss 0.0016 , train acc 0.857, test acc 0.840\n",
      "epoch 15 , loss 0.0016 , train acc 0.857, test acc 0.834\n",
      "epoch 16 , loss 0.0016 , train acc 0.858, test acc 0.842\n",
      "epoch 17 , loss 0.0016 , train acc 0.859, test acc 0.838\n",
      "epoch 18 , loss 0.0016 , train acc 0.857, test acc 0.834\n",
      "epoch 19 , loss 0.0016 , train acc 0.858, test acc 0.838\n",
      "epoch 20 , loss 0.0016 , train acc 0.860, test acc 0.835\n"
     ]
    }
   ],
   "source": [
    "\n",
    "\n",
    "loss = nn.CrossEntropyLoss()\n",
    "optimizer = torch.optim.SGD(net.parameters(), lr=0.1)\n",
    "num_epochs = 20\n",
    "d2l.train_ch3(net,train_iter,test_iter,loss,num_epochs,batch_size,None,None,optimizer)"
   ]
  },
  {
   "cell_type": "code",
   "execution_count": null,
   "metadata": {},
   "outputs": [],
   "source": []
  }
 ],
 "metadata": {
  "kernelspec": {
   "display_name": "DL_env",
   "language": "python",
   "name": "python3"
  },
  "language_info": {
   "codemirror_mode": {
    "name": "ipython",
    "version": 3
   },
   "file_extension": ".py",
   "mimetype": "text/x-python",
   "name": "python",
   "nbconvert_exporter": "python",
   "pygments_lexer": "ipython3",
   "version": "3.8.0"
  }
 },
 "nbformat": 4,
 "nbformat_minor": 2
}
