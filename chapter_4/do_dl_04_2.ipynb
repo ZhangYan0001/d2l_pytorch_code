{
 "cells": [
  {
   "cell_type": "code",
   "execution_count": 16,
   "metadata": {},
   "outputs": [
    {
     "name": "stdout",
     "output_type": "stream",
     "text": [
      "Sequential(\n",
      "  (0): Linear(in_features=4, out_features=3, bias=True)\n",
      "  (1): ReLU()\n",
      "  (2): Linear(in_features=3, out_features=1, bias=True)\n",
      ")\n"
     ]
    }
   ],
   "source": [
    "import torch\n",
    "from torch import nn\n",
    "from torch.nn import init\n",
    "\n",
    "net = nn.Sequential(nn.Linear(4,3), nn.ReLU(),nn.Linear(3,1))\n",
    "\n",
    "print(net)\n",
    "\n",
    "X = torch.rand(2,4)\n",
    "Y = net(X).sum()"
   ]
  },
  {
   "cell_type": "code",
   "execution_count": 2,
   "metadata": {},
   "outputs": [
    {
     "name": "stdout",
     "output_type": "stream",
     "text": [
      "<class 'generator'>\n",
      "0.weight torch.Size([3, 4])\n",
      "0.bias torch.Size([3])\n",
      "2.weight torch.Size([1, 3])\n",
      "2.bias torch.Size([1])\n"
     ]
    }
   ],
   "source": [
    "print(type(net.named_parameters()))\n",
    "for name, param in net.named_parameters():\n",
    "  print(name, param.size())"
   ]
  },
  {
   "cell_type": "code",
   "execution_count": 3,
   "metadata": {},
   "outputs": [
    {
     "name": "stdout",
     "output_type": "stream",
     "text": [
      "weight torch.Size([3, 4]) <class 'torch.nn.parameter.Parameter'>\n",
      "bias torch.Size([3]) <class 'torch.nn.parameter.Parameter'>\n"
     ]
    }
   ],
   "source": [
    "for name, param in net[0].named_parameters():\n",
    "  print(name, param.size(), type(param))"
   ]
  },
  {
   "cell_type": "code",
   "execution_count": 17,
   "metadata": {},
   "outputs": [
    {
     "name": "stdout",
     "output_type": "stream",
     "text": [
      "weight1\n",
      "tensor([[-0.3291,  0.3317,  0.0394,  0.1128],\n",
      "        [ 0.0705, -0.3498,  0.2080,  0.3114],\n",
      "        [-0.1096,  0.3058, -0.1165,  0.2111]])\n",
      "None\n",
      "tensor([[ 0.0235,  0.0849,  0.0888,  0.0347],\n",
      "        [-0.1183, -0.0223, -0.1131, -0.1367],\n",
      "        [ 0.3178,  0.3972,  0.5820,  0.3988]])\n"
     ]
    }
   ],
   "source": [
    "class MyModel(nn.Module):\n",
    "  def __init__(self,**kwargs):\n",
    "    super(MyModel,self).__init__(**kwargs)\n",
    "    self.weight1 = nn.Parameter(torch.rand(20,20))\n",
    "    self.weight2 = torch.rand(20,20)\n",
    "  \n",
    "  def fowward(self, x):\n",
    "    pass\n",
    "\n",
    "n = MyModel()\n",
    "for name, param in n.named_parameters():\n",
    "  print(name)\n",
    "\n",
    "# params = list(net[0].parameters())\n",
    "weigh_0 = list(net[0].parameters())[0]\n",
    "print(weigh_0.data)\n",
    "print(weigh_0.grad)\n",
    "\n",
    "Y.backward()\n",
    "print(weigh_0.grad)"
   ]
  },
  {
   "cell_type": "code",
   "execution_count": 18,
   "metadata": {},
   "outputs": [
    {
     "name": "stdout",
     "output_type": "stream",
     "text": [
      "0.weight tensor([[-0.0004,  0.0018,  0.0072,  0.0017],\n",
      "        [ 0.0027,  0.0107,  0.0090, -0.0050],\n",
      "        [-0.0185,  0.0055,  0.0091,  0.0154]])\n",
      "2.weight tensor([[-0.0040, -0.0015,  0.0086]])\n"
     ]
    }
   ],
   "source": [
    "for name, param in net.named_parameters():\n",
    "  if \"weight\" in name:\n",
    "    init.normal_(param, mean=0, std=0.01)\n",
    "    print(name, param.data)\n"
   ]
  },
  {
   "cell_type": "code",
   "execution_count": 19,
   "metadata": {},
   "outputs": [
    {
     "name": "stdout",
     "output_type": "stream",
     "text": [
      "0.bias tensor([0., 0., 0.])\n",
      "2.bias tensor([0.])\n"
     ]
    }
   ],
   "source": [
    "for name, param in net.named_parameters():\n",
    "  if \"bias\" in name:\n",
    "    init.constant_(param, val=0)\n",
    "    print(name, param.data)"
   ]
  },
  {
   "cell_type": "code",
   "execution_count": 20,
   "metadata": {},
   "outputs": [
    {
     "name": "stdout",
     "output_type": "stream",
     "text": [
      "0.weight tensor([[-0.0000,  7.0045, -6.5527, -0.0000],\n",
      "        [ 7.5509,  0.0000, -6.8486, -9.6573],\n",
      "        [-6.7627,  6.4909, -0.0000,  9.9846]])\n",
      "2.weight tensor([[-6.4279, -9.0198,  9.7344]])\n"
     ]
    }
   ],
   "source": [
    "# 自定义初始化方法\n",
    "# 需要的初始化方法并没有在init模块中提供\n",
    "\n",
    "\n",
    "def normal_(tensor, mean=0, std=1):\n",
    "  with torch.no_grad():\n",
    "    return tensor.normal_(mean, std)\n",
    "\n",
    "def init_weight_(tensor):\n",
    "  with torch.no_grad():\n",
    "    tensor.uniform_(-10,10)\n",
    "    tensor *= (tensor.abs()>=5).float()\n",
    "\n",
    "for name, param in net.named_parameters():\n",
    "  if \"weight\" in name:\n",
    "    init_weight_(param)\n",
    "    print(name, param.data)"
   ]
  },
  {
   "cell_type": "code",
   "execution_count": 21,
   "metadata": {},
   "outputs": [
    {
     "name": "stdout",
     "output_type": "stream",
     "text": [
      "Sequential(\n",
      "  (0): Linear(in_features=1, out_features=1, bias=False)\n",
      "  (1): Linear(in_features=1, out_features=1, bias=False)\n",
      ")\n",
      "0.weight tensor([[3.]])\n"
     ]
    }
   ],
   "source": [
    "#共享模型参数\n",
    "linear = nn.Linear(1, 1, bias=False)\n",
    "net = nn.Sequential(linear,linear)\n",
    "print(net)\n",
    "\n",
    "for name, param in net.named_parameters():\n",
    "  init.constant_(param, val=3)\n",
    "  print(name, param.data)"
   ]
  },
  {
   "cell_type": "code",
   "execution_count": 22,
   "metadata": {},
   "outputs": [
    {
     "name": "stdout",
     "output_type": "stream",
     "text": [
      "True\n",
      "True\n"
     ]
    }
   ],
   "source": [
    "# 在内存中，这两个线性层起始一个对象\n",
    "print(id(net[0]) == id(net[1]))\n",
    "print(id(net[0].weight) == id(net[1].weight))"
   ]
  },
  {
   "cell_type": "code",
   "execution_count": 23,
   "metadata": {},
   "outputs": [
    {
     "name": "stdout",
     "output_type": "stream",
     "text": [
      "tensor(9., grad_fn=<SumBackward0>)\n",
      "tensor([[6.]])\n"
     ]
    }
   ],
   "source": [
    "x = torch.ones(1,1)\n",
    "y = net(x).sum()\n",
    "print(y)\n",
    "y.backward()\n",
    "print(net[0].weight.grad)"
   ]
  },
  {
   "cell_type": "code",
   "execution_count": null,
   "metadata": {},
   "outputs": [],
   "source": []
  }
 ],
 "metadata": {
  "kernelspec": {
   "display_name": "DL_env",
   "language": "python",
   "name": "python3"
  },
  "language_info": {
   "codemirror_mode": {
    "name": "ipython",
    "version": 3
   },
   "file_extension": ".py",
   "mimetype": "text/x-python",
   "name": "python",
   "nbconvert_exporter": "python",
   "pygments_lexer": "ipython3",
   "version": "3.8.0"
  }
 },
 "nbformat": 4,
 "nbformat_minor": 2
}
