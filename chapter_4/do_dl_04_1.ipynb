{
 "cells": [
  {
   "cell_type": "code",
   "execution_count": null,
   "metadata": {},
   "outputs": [],
   "source": [
    "# 模型构造\n",
    "# 构造Sequential实例，然后依次添加两个全连接层。其中一层的输出大小为256，即隐藏层单元个数是256；\n",
    "# 第二层输出大小为10，即输出单元个数是10"
   ]
  },
  {
   "cell_type": "code",
   "execution_count": 1,
   "metadata": {},
   "outputs": [],
   "source": [
    "import torch\n",
    "from torch import nn\n"
   ]
  },
  {
   "cell_type": "code",
   "execution_count": 4,
   "metadata": {},
   "outputs": [
    {
     "data": {
      "text/plain": [
       "'\\n  以上的MLP类中无序定义反向传播函数,系统将通过自动求梯度而自动生成反向传播所需的backward函数\\n'"
      ]
     },
     "execution_count": 4,
     "metadata": {},
     "output_type": "execute_result"
    }
   ],
   "source": [
    "class MLP(nn.Module):\n",
    "  def __init__(self, **kwargs):\n",
    "    # 调用MLP父类Module的构造函数来进行必要的初始化。\n",
    "    # 参数，params\n",
    "    super(MLP,self).__init__(**kwargs)\n",
    "    self.hidden = nn.Linear(784,256) # 隐藏层\n",
    "    self.act = nn.ReLU()\n",
    "    self.output = nn.Linear(256,10) # 输出层\n",
    "\n",
    "  def forward(self,x):\n",
    "    # 定义模型的前向计算，即如何根据输入x计算返回所需要的模型输出\n",
    "    a = self.act(self.hidden(x))\n",
    "    return self.output(a)\n",
    "\n",
    "'''\n",
    "  以上的MLP类中无序定义反向传播函数,系统将通过自动求梯度而自动生成反向传播所需的backward函数\n",
    "'''"
   ]
  },
  {
   "cell_type": "code",
   "execution_count": 5,
   "metadata": {},
   "outputs": [
    {
     "name": "stdout",
     "output_type": "stream",
     "text": [
      "MLP(\n",
      "  (hidden): Linear(in_features=784, out_features=256, bias=True)\n",
      "  (act): ReLU()\n",
      "  (output): Linear(in_features=256, out_features=10, bias=True)\n",
      ")\n"
     ]
    },
    {
     "data": {
      "text/plain": [
       "tensor([[ 0.2343, -0.1191,  0.0747, -0.1021, -0.0153,  0.1037, -0.1777, -0.0339,\n",
       "         -0.2016,  0.2286],\n",
       "        [ 0.1334, -0.1232,  0.1454, -0.0680, -0.0735,  0.0268, -0.1940, -0.0291,\n",
       "         -0.1422,  0.0546]], grad_fn=<AddmmBackward0>)"
      ]
     },
     "execution_count": 5,
     "metadata": {},
     "output_type": "execute_result"
    }
   ],
   "source": [
    "X = torch.rand(2,784)\n",
    "net = MLP()\n",
    "print(net)\n",
    "net(X)\n"
   ]
  },
  {
   "cell_type": "code",
   "execution_count": 8,
   "metadata": {},
   "outputs": [],
   "source": [
    "from typing import OrderedDict\n",
    "\n",
    "\n",
    "class MySequential(nn.Module):\n",
    "  from collections import OrderedDict\n",
    "\n",
    "  def __init__(self, *args):\n",
    "    super(MySequential, self).__init__()\n",
    "    if len(args) == 1 and isinstance(args[0], OrderedDict):\n",
    "      for key, module in args[0].items():\n",
    "        self.add_module(key, module)\n",
    "    else:\n",
    "      for idx, module in enumerate(args):\n",
    "        self.add_module(str(idx), module)\n",
    "\n",
    "  def forward(self, input):\n",
    "    for module in self._modules.values():\n",
    "      input = module(input)\n",
    "    return input\n"
   ]
  },
  {
   "cell_type": "code",
   "execution_count": 13,
   "metadata": {},
   "outputs": [
    {
     "name": "stdout",
     "output_type": "stream",
     "text": [
      "MySequential(\n",
      "  (0): Linear(in_features=784, out_features=256, bias=True)\n",
      "  (1): ReLU()\n",
      "  (2): Linear(in_features=256, out_features=10, bias=True)\n",
      ")\n"
     ]
    },
    {
     "data": {
      "text/plain": [
       "tensor([[-0.0339,  0.0454,  0.1566,  0.1904,  0.1290, -0.0395,  0.0175,  0.1380,\n",
       "          0.1985, -0.2610],\n",
       "        [-0.0224,  0.0787,  0.0346,  0.0021,  0.3048,  0.1256, -0.1011,  0.0629,\n",
       "          0.2077, -0.1226]], grad_fn=<AddmmBackward0>)"
      ]
     },
     "execution_count": 13,
     "metadata": {},
     "output_type": "execute_result"
    }
   ],
   "source": [
    "net = MySequential(\n",
    "  nn.Linear(784, 256),\n",
    "  nn.ReLU(),\n",
    "  nn.Linear(256, 10),\n",
    ")\n",
    "print(net)\n",
    "net(X)\n"
   ]
  },
  {
   "cell_type": "code",
   "execution_count": 14,
   "metadata": {},
   "outputs": [
    {
     "name": "stdout",
     "output_type": "stream",
     "text": [
      "Linear(in_features=256, out_features=10, bias=True)\n",
      "ModuleList(\n",
      "  (0): Linear(in_features=784, out_features=256, bias=True)\n",
      "  (1): ReLU()\n",
      "  (2): Linear(in_features=256, out_features=10, bias=True)\n",
      ")\n"
     ]
    }
   ],
   "source": [
    "net = nn.ModuleList([nn.Linear(784,256),nn.ReLU()])\n",
    "net.append(nn.Linear(256,10))\n",
    "print(net[-1])\n",
    "print(net)"
   ]
  },
  {
   "cell_type": "code",
   "execution_count": 16,
   "metadata": {},
   "outputs": [],
   "source": [
    "class MyModule(nn.Module):\n",
    "  def __init__(self):\n",
    "    super(MyModule,self).__init__()\n",
    "    self.linears = nn.ModuleList([nn.Linear(10,10) for i in range(10)])\n",
    "  \n",
    "  def forward(self,x):\n",
    "    for i, l in enumerate(self.linears):\n",
    "      x = self.linears[i // 2](x)+l(x)\n",
    "    return x"
   ]
  },
  {
   "cell_type": "code",
   "execution_count": 18,
   "metadata": {},
   "outputs": [
    {
     "name": "stdout",
     "output_type": "stream",
     "text": [
      "MyModule(\n",
      "  (linears): ModuleList(\n",
      "    (0-9): 10 x Linear(in_features=10, out_features=10, bias=True)\n",
      "  )\n",
      ")\n"
     ]
    }
   ],
   "source": [
    "net = MyModule()\n",
    "print(net)"
   ]
  },
  {
   "cell_type": "code",
   "execution_count": 19,
   "metadata": {},
   "outputs": [
    {
     "name": "stdout",
     "output_type": "stream",
     "text": [
      "Linear(in_features=784, out_features=256, bias=True)\n",
      "Linear(in_features=256, out_features=10, bias=True)\n",
      "ModuleDict(\n",
      "  (linear): Linear(in_features=784, out_features=256, bias=True)\n",
      "  (act): ReLU()\n",
      "  (output): Linear(in_features=256, out_features=10, bias=True)\n",
      ")\n"
     ]
    }
   ],
   "source": [
    "net = nn.ModuleDict({\n",
    "  \"linear\":nn.Linear(784,256),\n",
    "  \"act\":nn.ReLU(),\n",
    "})\n",
    "\n",
    "net[\"output\"] = nn.Linear(256,10)\n",
    "print(net[\"linear\"])\n",
    "print(net.output)\n",
    "print(net)"
   ]
  },
  {
   "cell_type": "code",
   "execution_count": 25,
   "metadata": {},
   "outputs": [],
   "source": [
    "# 构造复杂的模型\n",
    "class FancyMLP(nn.Module):\n",
    "  def __init__(self, **kwargs):\n",
    "    super(FancyMLP, self).__init__(**kwargs)\n",
    "    self.rand_weight = torch.rand((20, 20), requires_grad=False)\n",
    "    self.linear = nn.Linear(20, 20)\n",
    "\n",
    "  def forward(self, x):\n",
    "    x = self.linear(x)\n",
    "    # 使用创建的常数参数，以及nn.functional 中的relu函数和mm函数\n",
    "    x = nn.functional.relu(torch.mm(x, self.rand_weight.data) + 1)\n",
    "    # 复用全连接层\n",
    "    x = self.linear(x)\n",
    "    # 控制流，这里我们需要调用item函数来返回标量进行比较\n",
    "    while x.norm().item() > 1:\n",
    "      x /= 2\n",
    "\n",
    "    if x.norm().item() < 0.8:\n",
    "      x *= 10\n",
    "\n",
    "    return x.sum()\n"
   ]
  },
  {
   "cell_type": "code",
   "execution_count": 26,
   "metadata": {},
   "outputs": [
    {
     "name": "stdout",
     "output_type": "stream",
     "text": [
      "FancyMLP(\n",
      "  (linear): Linear(in_features=20, out_features=20, bias=True)\n",
      ")\n"
     ]
    },
    {
     "data": {
      "text/plain": [
       "tensor(0.1856, grad_fn=<SumBackward0>)"
      ]
     },
     "execution_count": 26,
     "metadata": {},
     "output_type": "execute_result"
    }
   ],
   "source": [
    "X = torch.rand(2,20)\n",
    "net = FancyMLP()\n",
    "print(net)\n",
    "net(X)"
   ]
  },
  {
   "cell_type": "code",
   "execution_count": 27,
   "metadata": {},
   "outputs": [],
   "source": [
    "class NestMLP(nn.Module):\n",
    "  def __init__(self, **kwargs):\n",
    "    super(NestMLP, self).__init__(**kwargs)\n",
    "    self.net = nn.Sequential(nn.Linear(40, 30), nn.ReLU())\n",
    "\n",
    "  def forward(self, x):\n",
    "    return self.net(x)\n"
   ]
  },
  {
   "cell_type": "code",
   "execution_count": 28,
   "metadata": {},
   "outputs": [
    {
     "name": "stdout",
     "output_type": "stream",
     "text": [
      "Sequential(\n",
      "  (0): NestMLP(\n",
      "    (net): Sequential(\n",
      "      (0): Linear(in_features=40, out_features=30, bias=True)\n",
      "      (1): ReLU()\n",
      "    )\n",
      "  )\n",
      "  (1): Linear(in_features=30, out_features=20, bias=True)\n",
      "  (2): FancyMLP(\n",
      "    (linear): Linear(in_features=20, out_features=20, bias=True)\n",
      "  )\n",
      ")\n"
     ]
    },
    {
     "data": {
      "text/plain": [
       "tensor(9.1595, grad_fn=<SumBackward0>)"
      ]
     },
     "execution_count": 28,
     "metadata": {},
     "output_type": "execute_result"
    }
   ],
   "source": [
    "# FancyMLP和Sequential都是Module的子类，我们可以嵌套调用\n",
    "net = nn.Sequential(NestMLP(),nn.Linear(30,20),FancyMLP())\n",
    "X = torch.rand(2,40)\n",
    "print(net)\n",
    "net(X)"
   ]
  },
  {
   "cell_type": "code",
   "execution_count": null,
   "metadata": {},
   "outputs": [],
   "source": []
  }
 ],
 "metadata": {
  "kernelspec": {
   "display_name": "DL_env",
   "language": "python",
   "name": "python3"
  },
  "language_info": {
   "codemirror_mode": {
    "name": "ipython",
    "version": 3
   },
   "file_extension": ".py",
   "mimetype": "text/x-python",
   "name": "python",
   "nbconvert_exporter": "python",
   "pygments_lexer": "ipython3",
   "version": "3.8.0"
  }
 },
 "nbformat": 4,
 "nbformat_minor": 2
}
