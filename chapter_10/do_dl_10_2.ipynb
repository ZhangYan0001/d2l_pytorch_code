{
 "cells": [
  {
   "cell_type": "code",
   "execution_count": 1,
   "metadata": {},
   "outputs": [
    {
     "name": "stdout",
     "output_type": "stream",
     "text": [
      "cuda\n"
     ]
    }
   ],
   "source": [
    "# 子词嵌入\n",
    "# 在word2vec中, 我们并没有直接利用构词学中的信息.\n",
    "# 例如,dog和dogs分别用两个不同的词向量表示，而模型中并为直接表达这两个向量之间的关系\n",
    "# fastText提出了子词嵌入的方法，从而将构词信息引入word2vec中的跳字模型\n",
    "\n",
    "import torch\n",
    "\n",
    "\n",
    "device = torch.device(\"cuda\" if torch.cuda.is_available() else \"cpu\")\n",
    "\n",
    "print(device)\n"
   ]
  },
  {
   "cell_type": "code",
   "execution_count": 10,
   "metadata": {},
   "outputs": [
    {
     "data": {
      "text/plain": [
       "['glove.42B.300d',\n",
       " 'glove.840B.300d',\n",
       " 'glove.twitter.27B.25d',\n",
       " 'glove.twitter.27B.50d',\n",
       " 'glove.twitter.27B.100d',\n",
       " 'glove.twitter.27B.200d',\n",
       " 'glove.6B.50d',\n",
       " 'glove.6B.100d',\n",
       " 'glove.6B.200d',\n",
       " 'glove.6B.300d']"
      ]
     },
     "execution_count": 10,
     "metadata": {},
     "output_type": "execute_result"
    }
   ],
   "source": [
    "# 使用torchtext练习\n",
    "import torchtext.vocab as vocab\n",
    "\n",
    "[key for key in vocab.pretrained_aliases.keys() if \"glove\" in key]"
   ]
  },
  {
   "cell_type": "code",
   "execution_count": 15,
   "metadata": {},
   "outputs": [
    {
     "name": "stderr",
     "output_type": "stream",
     "text": [
      "../Datasets/Glove\\glove.6B.zip: 862MB [16:21, 878kB/s]                                 \n",
      "100%|█████████▉| 399999/400000 [00:20<00:00, 19775.77it/s]\n"
     ]
    }
   ],
   "source": [
    "cache_dir = \"../Datasets/Glove\"\n",
    "glove = vocab.GloVe(name=\"6B\", dim=50, cache=cache_dir)"
   ]
  },
  {
   "cell_type": "code",
   "execution_count": 18,
   "metadata": {},
   "outputs": [
    {
     "name": "stdout",
     "output_type": "stream",
     "text": [
      "all words len 400000 \n"
     ]
    },
    {
     "data": {
      "text/plain": [
       "'beautiful'"
      ]
     },
     "execution_count": 18,
     "metadata": {},
     "output_type": "execute_result"
    }
   ],
   "source": [
    "print(\"all words len %d \" % len(glove.stoi))\n",
    "\n",
    "glove.stoi[\"beautiful\"]\n",
    "glove.itos[3366]"
   ]
  },
  {
   "cell_type": "code",
   "execution_count": 19,
   "metadata": {},
   "outputs": [],
   "source": [
    "def knn(W, x, k):\n",
    "  cos = torch.matmul(W, x.view((-1,))) / (\n",
    "    (torch.sum(W * W, dim=1) + 1e-9).sqrt() * torch.sum(x * x).sqrt()\n",
    "  )\n",
    "  _, topk = torch.topk(cos, k=k)\n",
    "  topk = topk.cpu().numpy()\n",
    "  return topk, [cos[i].item() for i in topk]\n"
   ]
  },
  {
   "cell_type": "code",
   "execution_count": 20,
   "metadata": {},
   "outputs": [],
   "source": [
    "def get_similar_tokens(query_token, k, embed):\n",
    "  topk, cos = knn(embed.vectors, embed.vectors[embed.stoi[query_token]], k + 1)\n",
    "  for i, c in zip(topk[1:], cos[1:]):\n",
    "    print(\"cosine sim = %.3f: %s \" % (c, (embed.itos[i])))\n"
   ]
  },
  {
   "cell_type": "code",
   "execution_count": 21,
   "metadata": {},
   "outputs": [
    {
     "name": "stdout",
     "output_type": "stream",
     "text": [
      "cosine sim = 0.856: chips \n",
      "cosine sim = 0.749: intel \n",
      "cosine sim = 0.749: electronics \n"
     ]
    }
   ],
   "source": [
    "get_similar_tokens(\"chip\", 3, glove)"
   ]
  },
  {
   "cell_type": "code",
   "execution_count": 22,
   "metadata": {},
   "outputs": [
    {
     "name": "stdout",
     "output_type": "stream",
     "text": [
      "cosine sim = 0.839: babies \n",
      "cosine sim = 0.800: boy \n",
      "cosine sim = 0.792: girl \n"
     ]
    }
   ],
   "source": [
    "get_similar_tokens(\"baby\", 3, glove)"
   ]
  },
  {
   "cell_type": "code",
   "execution_count": 23,
   "metadata": {},
   "outputs": [],
   "source": [
    "def get_analogy(token_a, token_b, token_c, embed):\n",
    "  vecs = [embed.vectors[embed.stoi[t]] for t in [token_a, token_b, token_c]]\n",
    "  x = vecs[1] - vecs[0] + vecs[2]\n",
    "  topk, cos = knn(embed.vectors, x, 1)\n",
    "  return embed.itos[topk[0]]"
   ]
  },
  {
   "cell_type": "code",
   "execution_count": 25,
   "metadata": {},
   "outputs": [
    {
     "data": {
      "text/plain": [
       "'daughter'"
      ]
     },
     "execution_count": 25,
     "metadata": {},
     "output_type": "execute_result"
    }
   ],
   "source": [
    "get_analogy(\"man\", \"woman\", \"son\", glove)"
   ]
  },
  {
   "cell_type": "code",
   "execution_count": 26,
   "metadata": {},
   "outputs": [
    {
     "data": {
      "text/plain": [
       "'japan'"
      ]
     },
     "execution_count": 26,
     "metadata": {},
     "output_type": "execute_result"
    }
   ],
   "source": [
    "get_analogy(\"beijing\", \"china\", \"tokyo\",glove)"
   ]
  },
  {
   "cell_type": "code",
   "execution_count": 27,
   "metadata": {},
   "outputs": [
    {
     "data": {
      "text/plain": [
       "'biggest'"
      ]
     },
     "execution_count": 27,
     "metadata": {},
     "output_type": "execute_result"
    }
   ],
   "source": [
    "get_analogy(\"bad\", \"worst\", \"big\", glove)"
   ]
  },
  {
   "cell_type": "code",
   "execution_count": 30,
   "metadata": {},
   "outputs": [
    {
     "data": {
      "text/plain": [
       "'went'"
      ]
     },
     "execution_count": 30,
     "metadata": {},
     "output_type": "execute_result"
    }
   ],
   "source": [
    "get_analogy(\"do\", \"did\", \"go\", glove)"
   ]
  },
  {
   "cell_type": "code",
   "execution_count": null,
   "metadata": {},
   "outputs": [],
   "source": []
  }
 ],
 "metadata": {
  "kernelspec": {
   "display_name": "DL_env",
   "language": "python",
   "name": "python3"
  },
  "language_info": {
   "codemirror_mode": {
    "name": "ipython",
    "version": 3
   },
   "file_extension": ".py",
   "mimetype": "text/x-python",
   "name": "python",
   "nbconvert_exporter": "python",
   "pygments_lexer": "ipython3",
   "version": "3.8.0"
  }
 },
 "nbformat": 4,
 "nbformat_minor": 2
}
